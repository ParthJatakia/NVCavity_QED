{
 "cells": [
  {
   "cell_type": "code",
   "execution_count": 1,
   "metadata": {
    "ExecuteTime": {
     "end_time": "2019-05-01T17:00:32.446510Z",
     "start_time": "2019-05-01T17:00:31.114186Z"
    }
   },
   "outputs": [
    {
     "data": {
      "text/html": [
       "<style>.container { width:95% !important; }</style>"
      ],
      "text/plain": [
       "<IPython.core.display.HTML object>"
      ]
     },
     "metadata": {},
     "output_type": "display_data"
    }
   ],
   "source": [
    "# Standard libraries\n",
    "import numpy as np\n",
    "import qutip as qt\n",
    "\n",
    "# for plotting 2D and 3D plots\n",
    "from matplotlib import cm, colors\n",
    "import matplotlib.pyplot as plt\n",
    "from mpl_toolkits.mplot3d import Axes3D\n",
    "from matplotlib import cm\n",
    "from matplotlib.ticker import LinearLocator, FormatStrFormatter\n",
    "\n",
    "# scipy maximization functions\n",
    "import scipy.constants \n",
    "from scipy.linalg import expm, sinm, cosm\n",
    "import scipy.fftpack as sfft \n",
    "\n",
    "# for making GIFs\n",
    "import imageio\n",
    "\n",
    "# for increasing the writing screen size in jupyter\n",
    "from IPython.display import clear_output\n",
    "\n",
    "from IPython.core.display import display, HTML\n",
    "display(HTML(\"<style>.container { width:95% !important; }</style>\"))"
   ]
  },
  {
   "cell_type": "markdown",
   "metadata": {},
   "source": [
    "# Defining the states of the three level NV\n",
    "\n",
    "qt.basis(3,0) = $\\left|0\\right>$ ,\n",
    "qt.basis(3,1) = $\\left|1\\right>$ ,\n",
    "qt.basis(3,2) = $\\left|e\\right>$ ."
   ]
  },
  {
   "cell_type": "code",
   "execution_count": 2,
   "metadata": {
    "ExecuteTime": {
     "end_time": "2019-05-01T17:00:32.453500Z",
     "start_time": "2019-05-01T17:00:32.448927Z"
    }
   },
   "outputs": [],
   "source": [
    "state0 = qt.basis(3,0)\n",
    "state1 = qt.basis(3,1)\n",
    "statee = qt.basis(3,2)"
   ]
  },
  {
   "cell_type": "markdown",
   "metadata": {},
   "source": [
    "# Declaring Initial state and number of NVs\n",
    "\n",
    "Default case is for two spins with initial state as follows\n",
    "\n",
    "$\\left|NV_1\\right> = \\frac{\\left|0\\right>+\\left|1\\right>}{2}$, $\\left|NV_2\\right> = \\left|0\\right>$\n",
    "\n",
    "#### Pin = Initial density matrix,\n",
    "\n",
    "#### Pinmc = Initial state (defined for Monte Carlo simulation)"
   ]
  },
  {
   "cell_type": "code",
   "execution_count": 90,
   "metadata": {
    "ExecuteTime": {
     "end_time": "2019-05-02T13:06:15.115843Z",
     "start_time": "2019-05-02T13:06:15.109926Z"
    }
   },
   "outputs": [],
   "source": [
    "n_spins = 2\n",
    "nv1 = (1/np.sqrt(2))*(qt.basis(3,0)+qt.basis(3,1))\n",
    "nv2 = qt.basis(3,0)\n",
    "# nv3 = (1/np.sqrt(2))*(qt.basis(3,0)+qt.basis(3,1))\n",
    "Pin = qt.tensor(qt.ket2dm(nv1),qt.ket2dm(nv2))#,qt.ket2dm(nv3))\n",
    "Pinmc = qt.tensor(nv1,nv2)"
   ]
  },
  {
   "cell_type": "markdown",
   "metadata": {},
   "source": [
    "# Parameters\n",
    "\n",
    "g is an array (size = n_spins) of coupling constant for each NV to cavity coupling\n",
    "\n",
    "Dl is the detuning for the laser-NV interaction\n",
    "\n",
    "Om is the rabu frequency of laser\n",
    "\n",
    "Th is the effective NV-NV coupling (after applying the adiabatic elimination). \n",
    "\n",
    "kp is the cavity decay rate\n",
    "\n",
    "$\\gamma_{e0}$ = The spontaneous emmision from $\\left|e\\right>$ to $\\left|0\\right>$\n",
    "\n",
    "$\\gamma_{e1}$ = The spontaneous emmision from $\\left|e\\right>$ to $\\left|1\\right>$\n",
    "\n",
    "$\\gamma_{10}$ = The spontaneous emmision from $\\left|1\\right>$ to $\\left|0\\right>$\n"
   ]
  },
  {
   "cell_type": "code",
   "execution_count": 91,
   "metadata": {
    "ExecuteTime": {
     "end_time": "2019-05-02T13:06:16.318332Z",
     "start_time": "2019-05-02T13:06:16.312897Z"
    }
   },
   "outputs": [],
   "source": [
    "# Coupling between NVs\n",
    "g = np.full(n_spins,1)\n",
    "\n",
    "\n",
    "# Detuning of Laser frequency\n",
    "Dl = 10*np.mean(g)\n",
    "\n",
    "\n",
    "# Rabi Frequency of Laser\n",
    "Om = 0.01*g\n",
    "\n",
    "\n",
    "# Effective NV-NV Coupling\n",
    "Th = np.zeros((n_spins,n_spins))\n",
    "for i in range(n_spins):\n",
    "    Th[i] = g[i]*g/Dl\n",
    "\n",
    "\n",
    "# Effective spin-spin Coupling\n",
    "xi = np.mean(Om)*np.mean(Om)/np.mean(Th)\n",
    "\n",
    "\n",
    "# Decay terms\n",
    "kp = 0\n",
    "ye0 = 0\n",
    "y10 = ye0/5\n",
    "ye1 = ye0"
   ]
  },
  {
   "cell_type": "markdown",
   "metadata": {},
   "source": [
    "# Declaring Hamlitonian, Collapse Operators, Measurement Operators for \"n\" NVs\n",
    "\n",
    "## Hamiltonian\n",
    "The total hamiltonian consists of two parts. The self energy and the interaction energy. \n",
    "\n",
    "$$H_{self} = \\sum_{i}^{n_{spin}} \\Omega_i \\left|e\\right>_i\\left<1\\right|$$\n",
    "\n",
    "$$H_{cross} = \\sum_{i}^{n_{spin}}\\sum_{j}^{n_{spin}} \\Theta_{i,j}\\left|e\\right>_i\\left<0\\right|\\otimes \\left|0\\right>_j\\left<e\\right| $$\n",
    "\n",
    "## Collapse Operators\n",
    "The collapse operator takes into consideration the spontaneous emission from all the three levels. They are defined as follows\n",
    "\n",
    "$$ c^{(1)}_{ops} = \\sum_i^{n_{spins}}\\gamma_{10}\\left[2\\sigma^i_{01}\\rho\\sigma^i_{10} - \\left\\{\\sigma^i_{10}\\sigma^i_{01},\\rho\\right\\}\\right]$$\n",
    "\n",
    "$$ c^{(2)}_{ops} = \\sum_i^{n_{spins}}\\sum_{j = (1,2)}\\gamma_{ej}\\left[2\\sigma^i_{je}\\rho\\sigma^i_{ej} - \\left\\{\\sigma^i_{ej}\\sigma^i_{je},\\rho\\right\\}\\right]$$\n",
    "\n",
    "## Measurement Operators\n",
    "The pauli operator for a given two level system within a three level system. \n",
    "\n",
    "### Type 1\n",
    "\n",
    "$$\\sigma_x = \\left(\\begin{array}{*{11}c}0.0 & 1.0 & 0.0\\\\1.0 & 0.0 & 0.0\\\\0.0 & 0.0 & 0.0\\\\\\end{array}\\right)$$\n",
    "\n",
    "$$\\sigma_y = \\left(\\begin{array}{*{11}c}0.0 & -1.0j & 0.0\\\\1.0j & 0.0 & 0.0\\\\0.0 & 0.0 & 0.0\\\\\\end{array}\\right)$$\n",
    "\n",
    "$$\\sigma_z = \\left(\\begin{array}{*{11}c}1.0 & 0.0 & 0.0\\\\0.0 & -1.0 & 0.0\\\\0.0 & 0.0 & 0.0\\\\\\end{array}\\right)$$\n",
    "\n",
    "The above are what the code is set to. There is a major **confusion** on what the pauli operators should be. The other possibility is fo have the following\n",
    "\n",
    "### Type 2\n",
    "\n",
    "$$\\sigma_x = \\left(\\begin{array}{*{11}c}0.0 & 1.0 & 0.0\\\\1.0 & 0.0 & 0.0\\\\0.0 & 0.0 & 1.0\\\\\\end{array}\\right)$$\n",
    "\n",
    "$$\\sigma_y = \\left(\\begin{array}{*{11}c}0.0 & -1.0j & 0.0\\\\1.0j & 0.0 & 0.0\\\\0.0 & 0.0 & 1.0\\\\\\end{array}\\right)$$\n",
    "\n",
    "$$\\sigma_z = \\left(\\begin{array}{*{11}c}1.0 & 0.0 & 0.0\\\\0.0 & -1.0 & 0.0\\\\0.0 & 0.0 & 1.0\\\\\\end{array}\\right)$$\n",
    "\n"
   ]
  },
  {
   "cell_type": "code",
   "execution_count": 114,
   "metadata": {
    "ExecuteTime": {
     "end_time": "2019-05-02T13:31:44.165982Z",
     "start_time": "2019-05-02T13:31:44.101275Z"
    }
   },
   "outputs": [],
   "source": [
    "null = 0*qt.qeye(3)\n",
    "for i in range(n_spins-1):\n",
    "    null = qt.tensor(null,0*qt.qeye(3))\n",
    "\n",
    "Iter = np.identity(n_spins)\n",
    "\n",
    "# Individual NV Hamiltonian\n",
    "Hself = null\n",
    "for i in range(n_spins):\n",
    "    temp = Iter[i,0]*Om[0]*statee*(state1.dag()) + (1-Iter[i,0])*qt.qeye(3)\n",
    "    for j in range(1,n_spins):\n",
    "        temp = qt.tensor(temp,Iter[i,j]*Om[j]*statee*(state1.dag()) + (1-Iter[i,j])*qt.qeye(3))\n",
    "    Hself = Hself + temp\n",
    "\n",
    "# Interaction (NV-NV) Hamiltonian\n",
    "Hcross = null\n",
    "for i in range(n_spins):\n",
    "    for j in range(i+1,n_spins):\n",
    "        temp = qt.qeye(1)\n",
    "        for k in range(i):\n",
    "            temp = qt.tensor(temp,qt.qeye(3))\n",
    "        temp = qt.tensor(temp,statee*(state0.dag()))\n",
    "        for l in range(j-i-1):\n",
    "             temp = qt.tensor(temp,qt.qeye(3))\n",
    "        temp = qt.tensor(temp,state0*(statee.dag()))\n",
    "        for m in range(n_spins-j-1):\n",
    "            temp = qt.tensor(temp,qt.qeye(3))\n",
    "        temp = Th[i,j]*temp.ptrace(np.linspace(1,n_spins,n_spins,dtype = int))\n",
    "        Hcross = Hcross + temp\n",
    "        \n",
    "H = Hself + Hcross\n",
    "Heff = H + H.dag()\n",
    "\n",
    "# Collapse Operator\n",
    "c_ops = []\n",
    "# for 1 -> 0 Spontaneous emission\n",
    "for i in range(n_spins):\n",
    "    temp = Iter[i,0]*np.sqrt(y10)*state0*(state1.dag()) + (1-Iter[i,0])*qt.qeye(3)\n",
    "    for j in range(1,n_spins):\n",
    "        temp = qt.tensor(temp,Iter[i,j]*np.sqrt(y10)*state0*(state1.dag()) + (1-Iter[i,j])*qt.qeye(3))\n",
    "    c_ops.append(temp)\n",
    "\n",
    "# for e -> 0 Spontaneous emission\n",
    "for i in range(n_spins):\n",
    "    temp = Iter[i,0]*np.sqrt(ye0)*state0*(statee.dag()) + (1-Iter[i,0])*qt.qeye(3)\n",
    "    for j in range(1,n_spins):\n",
    "        temp = qt.tensor(temp,Iter[i,j]*np.sqrt(ye0)*state0*(statee.dag()) + (1-Iter[i,j])*qt.qeye(3))\n",
    "    c_ops.append(temp)\n",
    "    \n",
    "# for e -> 1 Spontaneous emission\n",
    "for i in range(n_spins):\n",
    "    temp = Iter[i,0]*np.sqrt(ye1)*state1*(statee.dag()) + (1-Iter[i,0])*qt.qeye(3)\n",
    "    for j in range(1,n_spins):\n",
    "        temp = qt.tensor(temp,Iter[i,j]*np.sqrt(ye1)*state1*(statee.dag()) + (1-Iter[i,j])*qt.qeye(3))\n",
    "    c_ops.append(temp)\n",
    "\n",
    "# Defining the Pauli Operators for a single NV\n",
    "sigmax =  state0*(state1.dag()) + state1*(state0.dag())\n",
    "sigmay =  -1j*state0*(state1.dag()) + 1j*state1*(state0.dag())\n",
    "sigmaz =  state0*(state0.dag()) - state1*(state1.dag())\n",
    "\n",
    "# Defining all angular momentum operators till second power\n",
    "\n",
    "Jx = null\n",
    "for i in range(n_spins):\n",
    "    temp = Iter[i,0]*sigmax/2 + (1-Iter[i,0])*qt.qeye(3)\n",
    "    for j in range(1,n_spins):\n",
    "        temp = qt.tensor(temp,Iter[i,j]*sigmax/2 + (1-Iter[i,j])*qt.qeye(3))\n",
    "    Jx = Jx + temp\n",
    "    \n",
    "Jy = null\n",
    "for i in range(n_spins):\n",
    "    temp = Iter[i,0]*sigmay/2 + (1-Iter[i,0])*qt.qeye(3)\n",
    "    for j in range(1,n_spins):\n",
    "        temp = qt.tensor(temp,Iter[i,j]*sigmay/2 + (1-Iter[i,j])*qt.qeye(3))\n",
    "    Jy = Jy + temp\n",
    "    \n",
    "Jz = null\n",
    "for i in range(n_spins):\n",
    "    temp = Iter[i,0]*sigmaz/2 + (1-Iter[i,0])*qt.qeye(3)\n",
    "    for j in range(1,n_spins):\n",
    "        temp = qt.tensor(temp,Iter[i,j]*sigmaz/2 + (1-Iter[i,j])*qt.qeye(3))\n",
    "    Jz = Jz + temp\n",
    "    \n",
    "Jxx = Jx*Jx\n",
    "Jyy = Jy*Jy\n",
    "Jzz = Jz*Jz\n",
    "Jxy = Jx*Jy\n",
    "Jyx = Jy*Jx\n",
    "Jyz = Jy*Jz\n",
    "Jzy = Jz*Jy\n",
    "Jzx = Jz*Jx\n",
    "Jxz = Jx*Jz\n",
    "meas = [Jx,Jy,Jz,Jxx,Jyy,Jzz,Jxy,Jyx,Jyz,Jzy,Jzx,Jxz]"
   ]
  },
  {
   "cell_type": "markdown",
   "metadata": {
    "ExecuteTime": {
     "end_time": "2019-04-10T09:26:59.700953Z",
     "start_time": "2019-04-10T09:26:59.693797Z"
    }
   },
   "source": [
    "# Time Variable & Measurement Operator\n",
    "\n",
    "Time is varied from 0 to $\\frac{\\pi}{2\\xi}$ where xi is the effective coupling of the NV-NV interaction as defined in the paper"
   ]
  },
  {
   "cell_type": "code",
   "execution_count": 115,
   "metadata": {
    "ExecuteTime": {
     "end_time": "2019-05-02T13:31:45.099272Z",
     "start_time": "2019-05-02T13:31:45.095082Z"
    }
   },
   "outputs": [],
   "source": [
    "t_dense = 1000\n",
    "t = np.linspace(0,np.pi/(2*xi),t_dense)"
   ]
  },
  {
   "cell_type": "markdown",
   "metadata": {},
   "source": [
    "# Lindbladian Master Equation => Simulation"
   ]
  },
  {
   "cell_type": "code",
   "execution_count": 116,
   "metadata": {
    "ExecuteTime": {
     "end_time": "2019-05-02T13:31:45.834879Z",
     "start_time": "2019-05-02T13:31:45.711867Z"
    }
   },
   "outputs": [],
   "source": [
    "result = qt.mesolve(Heff,Pin,t,c_ops,meas,options=qt.Options(nsteps=200000))"
   ]
  },
  {
   "cell_type": "markdown",
   "metadata": {
    "ExecuteTime": {
     "end_time": "2019-04-20T11:16:13.607461Z",
     "start_time": "2019-04-20T11:16:13.592696Z"
    }
   },
   "source": [
    "# Measuring Wineland Parameter\n",
    "\n",
    "$$\\xi^2_R = \\frac{N(\\Delta J^{min}_{\\vec{n}_{\\perp}})^2}{\\left|\\left<\\vec{J}\\right>\\right|^2}$$\n",
    "\n",
    "Here $j = N/2$ and the formula for the minimization of the variance of the Angular momenum is as follows\n",
    "\n",
    "$$\\lambda = \\frac{1}{2}\\left[\\left<J^2_{n_1}+J^2_{n_2}\\right> -\\sqrt{\\left<J^2_{n_1} - J^2_{n_2}\\right>+ 4\\text{Cov}\\left(J_{n_1},J_{n_{2}}\\right)} \\right]$$"
   ]
  },
  {
   "cell_type": "code",
   "execution_count": 117,
   "metadata": {
    "ExecuteTime": {
     "end_time": "2019-05-02T13:31:46.664070Z",
     "start_time": "2019-05-02T13:31:46.524326Z"
    }
   },
   "outputs": [],
   "source": [
    "eJx,eJy,eJz,eJxx,eJyy,eJzz,eJxy,eJyx,eJyz,eJzy,eJzx,eJxz = result.expect\n",
    "meanJ = np.array([eJx,eJy,eJz])\n",
    "meanJval = np.linalg.norm(meanJ,axis=0)\n",
    "meanJ = np.divide(meanJ,np.linalg.norm(meanJ,axis=0))\n",
    "\n",
    "theta = np.arccos(meanJ[2,:])\n",
    "phi = theta*0\n",
    "for i in range(t_dense):\n",
    "    if eJy[i] > 0 and theta[i] != 0.0:\n",
    "        phi[i] = np.arccos(np.around(meanJ[0,i]/np.sin(theta[i]),decimals=15))\n",
    "    elif theta[i] != 0 :\n",
    "        phi[i] = 2*np.pi - np.arccos(np.around(meanJ[0,i]/np.sin(theta[i]),decimals=15))\n",
    "\n",
    "n1 = np.array([-np.sin(phi),np.cos(phi),0*np.cos(phi)])\n",
    "n2 = np.array([np.cos(theta)*np.cos(phi),np.cos(theta)*np.sin(phi),-np.sin(theta)])\n",
    "\n",
    "squeeze = np.zeros(t_dense)\n",
    "for i in range(t_dense):\n",
    "    J2n1 = n1[0,i]**2*eJxx[i] + n1[1,i]**2*eJyy[i] + n1[2,i]**2*eJzz[i] \\\n",
    "         + n1[0,i]*n1[1,i]*(eJxy[i] + eJyx[i]) + n1[1,i]*n1[2,i]*(eJyz[i] + eJzy[i]) + n1[0,i]*n1[2,i]*(eJxz[i] + eJzx[i])\n",
    "    J2n2 = n2[0,i]**2*eJxx[i] + n2[1,i]**2*eJyy[i] + n2[2,i]**2*eJzz[i] \\\n",
    "         + n2[0,i]*n2[1,i]*(eJxy[i] + eJyx[i]) + n2[1,i]*n2[2,i]*(eJyz[i] + eJzy[i]) + n2[0,i]*n2[2,i]*(eJxz[i] + eJzx[i])\n",
    "    Jn1Jn2 = n1[0,i]*(n2[0,i]*eJxx[i] + n2[1,i]*eJxy[i] + n2[2,i]*eJxz[i]) \\\n",
    "           + n1[1,i]*(n2[0,i]*eJyx[i] + n2[1,i]*eJyy[i] + n2[2,i]*eJyz[i]) \\\n",
    "           + n1[2,i]*(n2[0,i]*eJzx[i] + n2[1,i]*eJzy[i] + n2[2,i]*eJzz[i])\n",
    "    Jn2Jn1 = n2[0,i]*(n1[0,i]*eJxx[i] + n1[1,i]*eJxy[i] + n1[2,i]*eJxz[i]) \\\n",
    "           + n2[1,i]*(n1[0,i]*eJyx[i] + n1[1,i]*eJyy[i] + n1[2,i]*eJyz[i]) \\\n",
    "           + n2[2,i]*(n1[0,i]*eJzx[i] + n1[1,i]*eJzy[i] + n1[2,i]*eJzz[i])\n",
    "    a = np.real(J2n1 + J2n2)\n",
    "    b = np.real(J2n1 - J2n2)\n",
    "    c = np.real(0.5*(Jn1Jn2 + Jn2Jn1))\n",
    "    squeeze[i] = (n_spins)/2*(a - np.sqrt(b**2 + 4*c**2))/(meanJval[i]**2)"
   ]
  },
  {
   "cell_type": "markdown",
   "metadata": {},
   "source": [
    "#### For Pauli Operators of Type 1"
   ]
  },
  {
   "cell_type": "code",
   "execution_count": 118,
   "metadata": {
    "ExecuteTime": {
     "end_time": "2019-05-02T13:31:47.972302Z",
     "start_time": "2019-05-02T13:31:47.731317Z"
    }
   },
   "outputs": [
    {
     "data": {
      "text/plain": [
       "[<matplotlib.lines.Line2D at 0x1a1b050048>]"
      ]
     },
     "execution_count": 118,
     "metadata": {},
     "output_type": "execute_result"
    },
    {
     "data": {
      "image/png": "[encoded data removed]",
      "text/plain": [
       "<Figure size 432x288 with 1 Axes>"
      ]
     },
     "metadata": {},
     "output_type": "display_data"
    }
   ],
   "source": [
    "plt.plot(t,squeeze)"
   ]
  },
  {
   "cell_type": "markdown",
   "metadata": {
    "ExecuteTime": {
     "end_time": "2019-05-02T12:59:32.937134Z",
     "start_time": "2019-05-02T12:59:32.928776Z"
    }
   },
   "source": [
    "### For Pauli Operators of Type 2"
   ]
  },
  {
   "cell_type": "code",
   "execution_count": 113,
   "metadata": {
    "ExecuteTime": {
     "end_time": "2019-05-02T13:31:17.422766Z",
     "start_time": "2019-05-02T13:31:17.209181Z"
    }
   },
   "outputs": [
    {
     "data": {
      "text/plain": [
       "[<matplotlib.lines.Line2D at 0x1a1b224860>]"
      ]
     },
     "execution_count": 113,
     "metadata": {},
     "output_type": "execute_result"
    },
    {
     "data": {
      "image/png": "[encoded data removed]",
      "text/plain": [
       "<Figure size 432x288 with 1 Axes>"
      ]
     },
     "metadata": {},
     "output_type": "display_data"
    }
   ],
   "source": [
    "plt.plot(t,squeeze)"
   ]
  },
  {
   "cell_type": "code",
   "execution_count": null,
   "metadata": {},
   "outputs": [],
   "source": []
  }
 ],
 "metadata": {
  "kernelspec": {
   "display_name": "Python 3",
   "language": "python",
   "name": "python3"
  },
  "language_info": {
   "codemirror_mode": {
    "name": "ipython",
    "version": 3
   },
   "file_extension": ".py",
   "mimetype": "text/x-python",
   "name": "python",
   "nbconvert_exporter": "python",
   "pygments_lexer": "ipython3",
   "version": "3.6.4"
  }
 },
 "nbformat": 4,
 "nbformat_minor": 2
}
