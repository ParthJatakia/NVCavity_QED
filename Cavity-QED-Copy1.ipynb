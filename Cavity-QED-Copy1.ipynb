{
 "cells": [
  {
   "cell_type": "code",
   "execution_count": 66,
   "metadata": {
    "ExecuteTime": {
     "end_time": "2019-04-14T18:02:41.718736Z",
     "start_time": "2019-04-14T18:02:41.707260Z"
    }
   },
   "outputs": [
    {
     "data": {
      "text/html": [
       "<style>.container { width:95% !important; }</style>"
      ],
      "text/plain": [
       "<IPython.core.display.HTML object>"
      ]
     },
     "metadata": {},
     "output_type": "display_data"
    }
   ],
   "source": [
    "import numpy as np\n",
    "import qutip as qt\n",
    "\n",
    "from matplotlib import cm, colors\n",
    "import matplotlib.pyplot as plt\n",
    "from mpl_toolkits.mplot3d import Axes3D\n",
    "from matplotlib import cm\n",
    "from matplotlib.ticker import LinearLocator, FormatStrFormatter\n",
    "\n",
    "import scipy.constants \n",
    "from scipy.linalg import expm, sinm, cosm\n",
    "import scipy.fftpack as sfft \n",
    "\n",
    "import imageio\n",
    "\n",
    "import time\n",
    "\n",
    "from IPython.display import clear_output\n",
    "\n",
    "from IPython.core.display import display, HTML\n",
    "display(HTML(\"<style>.container { width:95% !important; }</style>\"))"
   ]
  },
  {
   "cell_type": "markdown",
   "metadata": {},
   "source": [
    "## Two NVs\n",
    "\n",
    "Each of the NV is a three level system\n",
    "\n",
    "qt.basis(3,0) = $\\left|0\\right>$, qt.basis(3,1) = $\\left|1\\right>$ and qt.basis(3,2) = $\\left|e\\right>$"
   ]
  },
  {
   "cell_type": "code",
   "execution_count": 67,
   "metadata": {
    "ExecuteTime": {
     "end_time": "2019-04-14T18:02:42.647729Z",
     "start_time": "2019-04-14T18:02:42.638400Z"
    }
   },
   "outputs": [],
   "source": [
    "nv1 = (1/np.sqrt(2))*(qt.basis(3,0)+qt.basis(3,1))\n",
    "nv2 = qt.basis(3,0)\n",
    "Pin = qt.tensor(qt.ket2dm(nv1),qt.ket2dm(nv2))\n",
    "Pinmc = qt.tensor(nv1,nv2)\n",
    "state0 = qt.basis(3,0)\n",
    "state1 = qt.basis(3,1)\n",
    "statee = qt.basis(3,2)\n",
    "statesp = (1/np.sqrt(2))*(qt.tensor(statee,state0) + qt.tensor(state0,statee))\n",
    "statesm = (1/np.sqrt(2))*(qt.tensor(statee,state0) - qt.tensor(state0,statee))"
   ]
  },
  {
   "cell_type": "markdown",
   "metadata": {},
   "source": [
    "## Parameters"
   ]
  },
  {
   "cell_type": "code",
   "execution_count": 68,
   "metadata": {
    "ExecuteTime": {
     "end_time": "2019-04-14T18:02:44.095381Z",
     "start_time": "2019-04-14T18:02:44.087358Z"
    }
   },
   "outputs": [
    {
     "name": "stdout",
     "output_type": "stream",
     "text": [
      "0.1\n",
      "0.01\n"
     ]
    }
   ],
   "source": [
    "g1 = 1\n",
    "g2 = g1\n",
    "D1 = 10*g1\n",
    "Om1 = 0.01*g1\n",
    "Om2 = 0.01*g1\n",
    "Th = (g1*g2)/D1\n",
    "Lb1 = Om1/np.sqrt(2)\n",
    "Lb2 = Om2/np.sqrt(2)\n",
    "xi = (Om1*Om2)/Th\n",
    "kp = 0\n",
    "ye0 = 0.005*g1\n",
    "y10 = ye0/5\n",
    "ye1 = ye0\n",
    "print(Th)\n",
    "print(Om1)"
   ]
  },
  {
   "cell_type": "markdown",
   "metadata": {},
   "source": [
    "## Hamiltonian And Collapse Operator"
   ]
  },
  {
   "cell_type": "code",
   "execution_count": 69,
   "metadata": {
    "ExecuteTime": {
     "end_time": "2019-04-14T18:02:45.847119Z",
     "start_time": "2019-04-14T18:02:45.813694Z"
    }
   },
   "outputs": [],
   "source": [
    "H = Th/2*statesp*(statesp.dag()) + Th/2*statesm*(statesp.dag()) - Th/2*statesm*(statesm.dag()) - Th/2*(statesp*statesm.dag()) + Lb1*statesp*(qt.tensor(state1,state0).dag()) + Lb1*statesm*(qt.tensor(state1,state0).dag()) + Lb2*statesp*(qt.tensor(state0,state1).dag()) - Lb2*statesm*(qt.tensor(state0,state1).dag())\n",
    "#H = Om1*qt.tensor(statee*(state1.dag()),qt.qeye(3)) + Om2*qt.tensor(qt.qeye(3),statee*(state1.dag())) + Th*qt.tensor(statee*(state1.dag()),state0*(statee.dag()))\n",
    "Heff = H + H.dag()\n",
    "c_ops = [np.sqrt(y10)*qt.tensor(state0*(state1.dag()),qt.qeye(3)),np.sqrt(y10)*qt.tensor(qt.qeye(3),state0*(state1.dag()))\\\n",
    "        ,np.sqrt(ye0)*qt.tensor(state0*(statee.dag()),qt.qeye(3)),np.sqrt(ye0)*qt.tensor(qt.qeye(3),state0*(statee.dag()))\\\n",
    "        ,np.sqrt(ye1)*qt.tensor(state1*(statee.dag()),qt.qeye(3)),np.sqrt(ye1)*qt.tensor(qt.qeye(3),state1*(statee.dag()))\\\n",
    "        ]"
   ]
  },
  {
   "cell_type": "markdown",
   "metadata": {
    "ExecuteTime": {
     "end_time": "2019-04-10T09:26:59.700953Z",
     "start_time": "2019-04-10T09:26:59.693797Z"
    }
   },
   "source": [
    "## Time Variable & Measurement Operator"
   ]
  },
  {
   "cell_type": "code",
   "execution_count": 70,
   "metadata": {
    "ExecuteTime": {
     "end_time": "2019-04-14T18:02:46.696199Z",
     "start_time": "2019-04-14T18:02:46.687361Z"
    }
   },
   "outputs": [],
   "source": [
    "t = np.linspace(0,np.pi/(2*xi),100)\n",
    "pop1 = qt.tensor(state1*(state1.dag()),state0*(state0.dag()))\n",
    "pop2 = qt.tensor(state0*(state0.dag()),state1*(state1.dag()))"
   ]
  },
  {
   "cell_type": "markdown",
   "metadata": {},
   "source": [
    "## Lindbladian Master Equation => Simulation"
   ]
  },
  {
   "cell_type": "code",
   "execution_count": 71,
   "metadata": {
    "ExecuteTime": {
     "end_time": "2019-04-14T18:03:07.005166Z",
     "start_time": "2019-04-14T18:02:57.969621Z"
    }
   },
   "outputs": [
    {
     "name": "stdout",
     "output_type": "stream",
     "text": [
      "10.0%. Run time:   0.99s. Est. time left: 00:00:00:08\n",
      "20.0%. Run time:   1.86s. Est. time left: 00:00:00:07\n",
      "30.0%. Run time:   2.73s. Est. time left: 00:00:00:06\n",
      "40.0%. Run time:   3.62s. Est. time left: 00:00:00:05\n",
      "50.0%. Run time:   4.50s. Est. time left: 00:00:00:04\n",
      "60.0%. Run time:   5.33s. Est. time left: 00:00:00:03\n",
      "70.0%. Run time:   6.25s. Est. time left: 00:00:00:02\n",
      "80.0%. Run time:   7.17s. Est. time left: 00:00:00:01\n",
      "90.0%. Run time:   8.08s. Est. time left: 00:00:00:00\n",
      "100.0%. Run time:   8.91s. Est. time left: 00:00:00:00\n",
      "Total run time:   9.00s\n"
     ]
    }
   ],
   "source": [
    "result = qt.mcsolve(Heff,Pinmc,t,c_ops,[pop1,pop2])#,options=qt.Options(nsteps=200000))"
   ]
  },
  {
   "cell_type": "code",
   "execution_count": 72,
   "metadata": {
    "ExecuteTime": {
     "end_time": "2019-04-14T18:03:10.052511Z",
     "start_time": "2019-04-14T18:03:09.710017Z"
    }
   },
   "outputs": [],
   "source": [
    "% matplotlib qt\n",
    "plt.plot(t,result.expect[0])\n",
    "plt.plot(t,result.expect[1])\n",
    "plt.show()"
   ]
  },
  {
   "cell_type": "code",
   "execution_count": 66,
   "metadata": {
    "ExecuteTime": {
     "end_time": "2019-04-13T05:49:18.978937Z",
     "start_time": "2019-04-13T05:49:18.967924Z"
    }
   },
   "outputs": [
    {
     "data": {
      "text/latex": [
       "Quantum object: dims = [[3, 3], [3, 3]], shape = (9, 9), type = oper, isherm = True\\begin{equation*}\\left(\\begin{array}{*{11}c}0.0 & 0.0 & 0.0 & 0.0 & 0.0 & 0.0 & 0.0 & 0.0 & 0.0\\\\0.0 & 0.0 & 0.010 & 0.0 & 0.0 & 0.0 & 0.0 & 0.0 & 0.0\\\\0.0 & 0.010 & 0.0 & 0.0 & 0.0 & 0.0 & 0.0 & 0.0 & 0.0\\\\0.0 & 0.0 & 0.0 & 0.0 & 0.0 & 0.0 & 0.010 & 0.0 & 0.0\\\\0.0 & 0.0 & 0.0 & 0.0 & 0.0 & 0.010 & 0.0 & 0.010 & 0.0\\\\0.0 & 0.0 & 0.0 & 0.0 & 0.010 & 0.0 & 0.100 & 0.0 & 0.010\\\\0.0 & 0.0 & 0.0 & 0.010 & 0.0 & 0.100 & 0.0 & 0.0 & 0.0\\\\0.0 & 0.0 & 0.0 & 0.0 & 0.010 & 0.0 & 0.0 & 0.0 & 0.010\\\\0.0 & 0.0 & 0.0 & 0.0 & 0.0 & 0.010 & 0.0 & 0.010 & 0.0\\\\\\end{array}\\right)\\end{equation*}"
      ],
      "text/plain": [
       "Quantum object: dims = [[3, 3], [3, 3]], shape = (9, 9), type = oper, isherm = True\n",
       "Qobj data =\n",
       "[[0.   0.   0.   0.   0.   0.   0.   0.   0.  ]\n",
       " [0.   0.   0.01 0.   0.   0.   0.   0.   0.  ]\n",
       " [0.   0.01 0.   0.   0.   0.   0.   0.   0.  ]\n",
       " [0.   0.   0.   0.   0.   0.   0.01 0.   0.  ]\n",
       " [0.   0.   0.   0.   0.   0.01 0.   0.01 0.  ]\n",
       " [0.   0.   0.   0.   0.01 0.   0.1  0.   0.01]\n",
       " [0.   0.   0.   0.01 0.   0.1  0.   0.   0.  ]\n",
       " [0.   0.   0.   0.   0.01 0.   0.   0.   0.01]\n",
       " [0.   0.   0.   0.   0.   0.01 0.   0.01 0.  ]]"
      ]
     },
     "execution_count": 66,
     "metadata": {},
     "output_type": "execute_result"
    }
   ],
   "source": [
    "Heff"
   ]
  },
  {
   "cell_type": "code",
   "execution_count": 5,
   "metadata": {
    "ExecuteTime": {
     "end_time": "2019-04-13T13:40:36.215832Z",
     "start_time": "2019-04-13T13:40:36.212625Z"
    }
   },
   "outputs": [],
   "source": [
    "a = 2 +\\\n",
    "3"
   ]
  },
  {
   "cell_type": "code",
   "execution_count": 6,
   "metadata": {
    "ExecuteTime": {
     "end_time": "2019-04-13T13:40:38.885896Z",
     "start_time": "2019-04-13T13:40:38.879964Z"
    }
   },
   "outputs": [
    {
     "data": {
      "text/plain": [
       "5"
      ]
     },
     "execution_count": 6,
     "metadata": {},
     "output_type": "execute_result"
    }
   ],
   "source": [
    "a"
   ]
  },
  {
   "cell_type": "code",
   "execution_count": null,
   "metadata": {},
   "outputs": [],
   "source": []
  }
 ],
 "metadata": {
  "kernelspec": {
   "display_name": "Python 3",
   "language": "python",
   "name": "python3"
  },
  "language_info": {
   "codemirror_mode": {
    "name": "ipython",
    "version": 3
   },
   "file_extension": ".py",
   "mimetype": "text/x-python",
   "name": "python",
   "nbconvert_exporter": "python",
   "pygments_lexer": "ipython3",
   "version": "3.6.4"
  }
 },
 "nbformat": 4,
 "nbformat_minor": 2
}
